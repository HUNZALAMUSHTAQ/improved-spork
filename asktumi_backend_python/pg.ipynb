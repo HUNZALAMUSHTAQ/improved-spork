{
 "cells": [
  {
   "cell_type": "code",
   "execution_count": 17,
   "metadata": {},
   "outputs": [
    {
     "name": "stdout",
     "output_type": "stream",
     "text": [
      "Response Status Code: 200\n",
      "Response Data: All docs pushed to Weaviate!\n"
     ]
    }
   ],
   "source": [
    "import requests\n",
    "\n",
    "# Define the API endpoint URL\n",
    "api_url = \"http://localhost:5000/upload/678993\"  # Replace with the actual URL and workspace_id\n",
    "\n",
    "try:\n",
    "    # Create a dictionary with the file to upload\n",
    "    files = {'file': ('hehe.pdf', open('hehe.pdf', 'rb'))}\n",
    "    \n",
    "    # Send a POST request to the /upload/<workspace_id> endpoint with the file attachment\n",
    "    response = requests.post(api_url, files=files)\n",
    "\n",
    "    if response.status_code == 200:\n",
    "        # Print the response data\n",
    "        print(\"Response Status Code:\", response.status_code)\n",
    "        print(\"Response Data:\", response.text)\n",
    "    else:\n",
    "        print(\"Error - Status Code:\", response.status_code)\n",
    "        print(\"Error Response:\", response.text)\n",
    "\n",
    "except Exception as e:\n",
    "    print(\"An error occurred:\", str(e))\n"
   ]
  },
  {
   "cell_type": "code",
   "execution_count": 18,
   "metadata": {},
   "outputs": [
    {
     "name": "stdout",
     "output_type": "stream",
     "text": [
      "Error - Status Code: 500\n",
      "Error Response: Error in query_weaviate: Error during query: [{'locations': [{'column': 6, 'line': 1}], 'message': 'get vector input from modules provider: remote client vectorize: connection to: OpenAI API failed with status: 401 error: Incorrect API key provided: sk-xxx. You can find your API key at https://platform.openai.com/account/api-keys.', 'path': ['Get', 'ASKTUMI_12345']}]\n"
     ]
    }
   ],
   "source": [
    "import requests\n",
    "import json\n",
    "\n",
    "# Define the API endpoint URL\n",
    "api_url = \"http://localhost:5000/query\"  # Replace with the actual URL\n",
    "\n",
    "# Define the parameters\n",
    "query_data = {\n",
    "    \"query\": \"Your query text here\",\n",
    "    \"k_value\": 10,\n",
    "    \"workspace_id\": \"12345\"\n",
    "}\n",
    "\n",
    "# Convert the query_data dictionary to JSON format\n",
    "payload = json.dumps(query_data)\n",
    "\n",
    "try:\n",
    "    # Send a POST request to the /query endpoint with JSON data\n",
    "    headers = {'Content-Type': 'application/json'}\n",
    "    response = requests.post(api_url, data=payload, headers=headers)\n",
    "\n",
    "    if response.status_code == 200:\n",
    "        # Print the response data\n",
    "        print(\"Response Status Code:\", response.status_code)\n",
    "        print(\"Response Data:\", response.text)\n",
    "    else:\n",
    "        print(\"Error - Status Code:\", response.status_code)\n",
    "        print(\"Error Response:\", response.text)\n",
    "\n",
    "except Exception as e:\n",
    "    print(\"An error occurred:\", str(e))\n"
   ]
  }
 ],
 "metadata": {
  "kernelspec": {
   "display_name": "Python 3",
   "language": "python",
   "name": "python3"
  },
  "language_info": {
   "codemirror_mode": {
    "name": "ipython",
    "version": 3
   },
   "file_extension": ".py",
   "mimetype": "text/x-python",
   "name": "python",
   "nbconvert_exporter": "python",
   "pygments_lexer": "ipython3",
   "version": "3.11.4"
  }
 },
 "nbformat": 4,
 "nbformat_minor": 2
}
